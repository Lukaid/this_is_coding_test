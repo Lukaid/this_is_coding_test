{
 "cells": [
  {
   "cell_type": "markdown",
   "metadata": {},
   "source": [
    "# 탐욕법"
   ]
  },
  {
   "cell_type": "markdown",
   "metadata": {},
   "source": [
    "## 3-2 law of great numbers\n",
    "\n",
    "- N, M, K가 주어짐\n",
    "- N개의 자연수가 주어짐\n",
    "- K <= M"
   ]
  },
  {
   "cell_type": "code",
   "execution_count": 12,
   "metadata": {},
   "outputs": [
    {
     "name": "stdout",
     "output_type": "stream",
     "text": [
      "46\n"
     ]
    }
   ],
   "source": [
    "n, m, k = map(int, input().split())\n",
    "data = list(map(int, input().split()))\n",
    "\n",
    "data.sort(reverse=True)\n",
    "first = data[0]\n",
    "second = data[1]\n",
    "\n",
    "result = 0\n",
    "idx = 0\n",
    "\n",
    "for i in range(m):\n",
    "    idx += 1\n",
    "    if idx % k == 0:\n",
    "        result += second\n",
    "    else:\n",
    "        result += first\n",
    "\n",
    "print(result)"
   ]
  },
  {
   "cell_type": "code",
   "execution_count": null,
   "metadata": {},
   "outputs": [],
   "source": [
    "# N, M, K를 공백을 기준으로 구분하여 입력 받기\n",
    "n, m, k = map(int, input().split())\n",
    "# N개의 수를 공백을 기준으로 구분하여 입력 받기\n",
    "data = list(map(int, input().split()))\n",
    "\n",
    "data.sort() # 입력 받은 수들 정렬하기\n",
    "first = data[n - 1] # 가장 큰 수\n",
    "second = data[n - 2] # 두 번째로 큰 수\n",
    "\n",
    "# 가장 큰 수가 더해지는 횟수 계산\n",
    "count = int(m / (k + 1)) * k\n",
    "count += m % (k + 1)\n",
    "\n",
    "result = 0\n",
    "result += (count) * first # 가장 큰 수 더하기\n",
    "result += (m - count) * second # 두 번째로 큰 수 더하기\n",
    "\n",
    "print(result) # 최종 답안 출력\n"
   ]
  },
  {
   "cell_type": "markdown",
   "metadata": {},
   "source": [
    "## 3-3 Number Card Game\n",
    "\n",
    "- n by m 행렬 받음\n",
    "- 각 행에서 가장 낮은 숫자들 중 가장 큰 숫자 출력"
   ]
  },
  {
   "cell_type": "code",
   "execution_count": 15,
   "metadata": {},
   "outputs": [
    {
     "name": "stdout",
     "output_type": "stream",
     "text": [
      "3\n"
     ]
    }
   ],
   "source": [
    "n, m= map(int, input().split())\n",
    "data = []\n",
    "for i in range(n):\n",
    "    data.append(list(map(int, input().split())))\n",
    "\n",
    "min_data = []\n",
    "for j in data:\n",
    "    min_data.append(min(j))\n",
    "\n",
    "print(max(min_data))"
   ]
  },
  {
   "cell_type": "markdown",
   "metadata": {},
   "source": [
    "## 3-4 1이 될 때까지\n",
    "\n",
    "1. n에서 1을 뺸다.\n",
    "2. n을 k로 나눈다.\n",
    "\n",
    "- 위의 두 과정을 최소한을 사용하여 1을 만듬"
   ]
  },
  {
   "cell_type": "code",
   "execution_count": 19,
   "metadata": {},
   "outputs": [
    {
     "name": "stdout",
     "output_type": "stream",
     "text": [
      "2\n"
     ]
    }
   ],
   "source": [
    "# n, k= map(int, input().split())\n",
    "n =  25\n",
    "k = 5\n",
    "\n",
    "iter = 0\n",
    "\n",
    "while True:\n",
    "    if n == 1:\n",
    "        break\n",
    "    elif n % k == 0:\n",
    "        n = n / k\n",
    "        iter += 1\n",
    "    else:\n",
    "        n -= 1\n",
    "        iter += 1\n",
    "\n",
    "print(iter)"
   ]
  }
 ],
 "metadata": {
  "interpreter": {
   "hash": "737adab86a857289fc3bb162d0b4f640b26cc80f7c2ae1cce2eb6b9aa0f64168"
  },
  "kernelspec": {
   "display_name": "Python 3.9.4 64-bit ('base': conda)",
   "name": "python3"
  },
  "language_info": {
   "codemirror_mode": {
    "name": "ipython",
    "version": 3
   },
   "file_extension": ".py",
   "mimetype": "text/x-python",
   "name": "python",
   "nbconvert_exporter": "python",
   "pygments_lexer": "ipython3",
   "version": "3.9.4"
  },
  "orig_nbformat": 4
 },
 "nbformat": 4,
 "nbformat_minor": 2
}