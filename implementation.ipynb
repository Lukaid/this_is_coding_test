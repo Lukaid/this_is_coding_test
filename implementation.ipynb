{
 "cells": [
  {
   "cell_type": "markdown",
   "metadata": {},
   "source": [
    "# 구현"
   ]
  },
  {
   "cell_type": "markdown",
   "metadata": {},
   "source": [
    "## 4-1 상하좌우\n",
    "\n",
    "- n by n 크기의 맵\n",
    "- (1, 1) 에서 시작\n",
    "- (n, n) 까지 있음\n",
    "- u r l d 을 입력받아 여행자가 마지막에 있는 곳의 좌표를 출력\n",
    "- 단 맵 밖으로 나가는 입력은 무시"
   ]
  },
  {
   "cell_type": "code",
   "execution_count": 3,
   "metadata": {},
   "outputs": [
    {
     "name": "stdout",
     "output_type": "stream",
     "text": [
      "[3, 4]\n"
     ]
    }
   ],
   "source": [
    "n = input()\n",
    "data = list(map(str, input().split()))\n",
    "\n",
    "position = [1, 1]\n",
    "\n",
    "for i in data:\n",
    "    if i == 'u':\n",
    "        if position[0] == 1:\n",
    "            pass\n",
    "        else:\n",
    "            position[0] -= 1\n",
    "    elif i == 'd':\n",
    "        if position[0] == n:\n",
    "            pass\n",
    "        else:\n",
    "            position[0] += 1\n",
    "    elif i == 'r':\n",
    "        if position[1] == n:\n",
    "            pass\n",
    "        else:\n",
    "            position[1] += 1\n",
    "    elif i == 'l':\n",
    "        if position[1] == 1:\n",
    "            pass\n",
    "        else:\n",
    "            position[1] -= 1\n",
    "\n",
    "print(position)\n"
   ]
  },
  {
   "cell_type": "code",
   "execution_count": 5,
   "metadata": {},
   "outputs": [
    {
     "name": "stdout",
     "output_type": "stream",
     "text": [
      "3 4\n"
     ]
    }
   ],
   "source": [
    "# Solution\n",
    "\n",
    "# N 입력받기\n",
    "n = int(input())\n",
    "x, y = 1, 1\n",
    "plans = input().split()\n",
    "\n",
    "# L, R, U, D에 따른 이동 방향\n",
    "dx = [0, 0, -1, 1]\n",
    "dy = [-1, 1, 0, 0]\n",
    "move_types = ['L', 'R', 'U', 'D']\n",
    "\n",
    "# 이동 계획을 하나씩 확인\n",
    "for plan in plans:\n",
    "    # 이동 후 좌표 구하기\n",
    "    for i in range(len(move_types)):\n",
    "        if plan == move_types[i]:\n",
    "            nx = x + dx[i]\n",
    "            ny = y + dy[i]\n",
    "    # 공간을 벗어나는 경우 무시\n",
    "    if nx < 1 or ny < 1 or nx > n or ny > n:\n",
    "        continue\n",
    "    # 이동 수행\n",
    "    x, y = nx, ny\n",
    "\n",
    "print(x, y)"
   ]
  },
  {
   "cell_type": "code",
   "execution_count": 6,
   "metadata": {},
   "outputs": [
    {
     "data": {
      "text/plain": [
       "['R', 'R', 'R', 'U', 'D', 'D']"
      ]
     },
     "execution_count": 6,
     "metadata": {},
     "output_type": "execute_result"
    }
   ],
   "source": [
    "plans"
   ]
  },
  {
   "cell_type": "markdown",
   "metadata": {},
   "source": [
    "## 4-2 시각\n",
    "\n",
    "- 00시 00분 00초에서 n시 59분 59초까지 3이 포함된 시각 카운트"
   ]
  },
  {
   "cell_type": "code",
   "execution_count": 15,
   "metadata": {},
   "outputs": [
    {
     "name": "stdout",
     "output_type": "stream",
     "text": [
      "11475\n"
     ]
    }
   ],
   "source": [
    "n = int(input())\n",
    "\n",
    "count = 0\n",
    "for i in range(n+1):\n",
    "    for j in range(60):\n",
    "        for k in range(60):\n",
    "            if '3' in str(i) or '3' in str(j) or '3' in str(k):\n",
    "                count += 1\n",
    "\n",
    "print(count)"
   ]
  },
  {
   "cell_type": "code",
   "execution_count": 33,
   "metadata": {},
   "outputs": [
    {
     "name": "stdout",
     "output_type": "stream",
     "text": [
      "11475\n"
     ]
    }
   ],
   "source": [
    "# 아름다운 숏코딩...\n",
    "\n",
    "import itertools\n",
    "\n",
    "n, count = int(input()), 0\n",
    "for i, j, k in itertools.product(range(n+1), range(60), range(60)): \n",
    "    if '3' in str(i) + str(j) + str(k): count += 1\n",
    "\n",
    "print(count)"
   ]
  },
  {
   "cell_type": "code",
   "execution_count": null,
   "metadata": {},
   "outputs": [],
   "source": [
    "# Solution\n",
    "\n",
    "# H를 입력받기\n",
    "h = int(input())\n",
    "\n",
    "count = 0\n",
    "for i in range(h + 1):\n",
    "    for j in range(60):\n",
    "        for k in range(60):\n",
    "            # 매 시각 안에 '3'이 포함되어 있다면 카운트 증가\n",
    "            if '3' in str(i) + str(j) + str(k):\n",
    "                count += 1\n",
    "\n",
    "print(count)"
   ]
  },
  {
   "cell_type": "markdown",
   "metadata": {},
   "source": [
    "## 4-3 왕실의 나이트\n",
    "\n",
    "- 체스판에서 나이트의 위치가 주어졌을 때 움직을 수 있는 경우의 수 출력"
   ]
  },
  {
   "cell_type": "code",
   "execution_count": 41,
   "metadata": {},
   "outputs": [
    {
     "name": "stdout",
     "output_type": "stream",
     "text": [
      "4\n"
     ]
    }
   ],
   "source": [
    "position = str(input())\n",
    "\n",
    "move = [(2, 1), (2, -1), (-2, 1), (-2, -1), (1, 2), (1, -2), (-1, 2), (-1, -2)]\n",
    "count = 0\n",
    "\n",
    "for i in move:\n",
    "    if (1 <= ord(position[0]) - ord('a') + 1 + i[0] <= 8) and (1 <= int(position[1])+ i[1] <= 8):\n",
    "        count += 1\n",
    "\n",
    "print(count)"
   ]
  },
  {
   "cell_type": "code",
   "execution_count": 25,
   "metadata": {},
   "outputs": [
    {
     "data": {
      "text/plain": [
       "'`'"
      ]
     },
     "execution_count": 25,
     "metadata": {},
     "output_type": "execute_result"
    }
   ],
   "source": []
  }
 ],
 "metadata": {
  "interpreter": {
   "hash": "737adab86a857289fc3bb162d0b4f640b26cc80f7c2ae1cce2eb6b9aa0f64168"
  },
  "kernelspec": {
   "display_name": "Python 3.9.4 64-bit ('base': conda)",
   "name": "python3"
  },
  "language_info": {
   "codemirror_mode": {
    "name": "ipython",
    "version": 3
   },
   "file_extension": ".py",
   "mimetype": "text/x-python",
   "name": "python",
   "nbconvert_exporter": "python",
   "pygments_lexer": "ipython3",
   "version": "3.9.4"
  },
  "orig_nbformat": 4
 },
 "nbformat": 4,
 "nbformat_minor": 2
}