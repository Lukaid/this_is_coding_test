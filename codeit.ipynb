{
 "cells": [
  {
   "cell_type": "markdown",
   "metadata": {},
   "source": [
    "# Code-it coding test"
   ]
  },
  {
   "cell_type": "markdown",
   "metadata": {},
   "source": [
    "### 이진탐색"
   ]
  },
  {
   "cell_type": "code",
   "execution_count": null,
   "metadata": {},
   "outputs": [],
   "source": [
    "def binary_search(element, some_list):\n",
    "    start_index = 0\n",
    "    end_index = len(some_list) - 1\n",
    "    \n",
    "    while start_index <= end_index:\n",
    "        midpoint = (start_index + end_index) // 2\n",
    "        if some_list[midpoint] == element:\n",
    "            return midpoint\n",
    "        elif some_list[midpoint] > element:\n",
    "            end_index = midpoint - 1\n",
    "        else:\n",
    "            start_index = midpoint + 1\n",
    "    return None\n",
    "\n",
    "print(binary_search(2, [2, 3, 5, 7, 11]))\n",
    "print(binary_search(0, [2, 3, 5, 7, 11]))\n",
    "print(binary_search(5, [2, 3, 5, 7, 11]))\n",
    "print(binary_search(3, [2, 3, 5, 7, 11]))\n",
    "print(binary_search(11, [2, 3, 5, 7, 11]))"
   ]
  },
  {
   "cell_type": "markdown",
   "metadata": {},
   "source": [
    "### 피보나치 수열 - 재귀\n"
   ]
  },
  {
   "cell_type": "code",
   "execution_count": null,
   "metadata": {},
   "outputs": [],
   "source": [
    "def fib(n):\n",
    "    # base case\n",
    "    if n < 3:\n",
    "        return 1\n",
    "    \n",
    "    # recursive case\n",
    "    return fib(n - 1) + fib(n - 2)\n",
    "    \n",
    "# 테스트: fib(1)부터 fib(10)까지 출력\n",
    "for i in range(1, 11):\n",
    "    print(fib(i))"
   ]
  },
  {
   "cell_type": "markdown",
   "metadata": {},
   "source": [
    "### 자릿수합 - 재귀"
   ]
  },
  {
   "cell_type": "code",
   "execution_count": null,
   "metadata": {},
   "outputs": [],
   "source": [
    "def sum_digits(n):\n",
    "    # base case\n",
    "    if n < 10:\n",
    "        return n\n",
    "\n",
    "    # recursive case\n",
    "    return n % 10 + sum_digits(n // 10)\n",
    "\n",
    "print(sum_digits(22541))\n",
    "print(sum_digits(92130))\n",
    "print(sum_digits(12634))\n",
    "print(sum_digits(704))\n",
    "print(sum_digits(3755))"
   ]
  },
  {
   "cell_type": "markdown",
   "metadata": {},
   "source": [
    "### 리스트 뒤집기 - 재귀"
   ]
  },
  {
   "cell_type": "code",
   "execution_count": null,
   "metadata": {},
   "outputs": [],
   "source": [
    "# 파라미터 some_list를 거꾸로 뒤집는 함수\n",
    "def flip(some_list):\n",
    "    # base case\n",
    "    if len(some_list) == 0 or len(some_list) == 1:\n",
    "        return some_list\n",
    "\n",
    "    # recursive case\n",
    "    return some_list[-1:] + flip(some_list[:-1])\n",
    "\n",
    "# 테스트\n",
    "some_list = [1, 2, 3, 4, 5, 6, 7, 8, 9]\n",
    "some_list = flip(some_list)\n",
    "print(some_list)"
   ]
  },
  {
   "cell_type": "markdown",
   "metadata": {},
   "source": [
    "### 이진 탐색 재귀로 구현해보기 - 재귀"
   ]
  },
  {
   "cell_type": "code",
   "execution_count": null,
   "metadata": {},
   "outputs": [],
   "source": [
    "def binary_search(element, some_list, start_index=0, end_index=None):\n",
    "    # end_index가 따로 주어지지 않은 경우에는 리스트의 마지막 인덱스\n",
    "    if end_index == None:\n",
    "        end_index = len(some_list) - 1\n",
    "\n",
    "    # start_index가 end_index보다 크면 some_list안에 element는 없다\n",
    "    if start_index > end_index:\n",
    "        return None\n",
    "    \n",
    "    # 범위의 중간 인덱스를 찾는다\n",
    "    mid = (start_index + end_index) // 2\n",
    "\n",
    "    # 이 인덱스의 값이 찾는 값인지 확인을 해준다\n",
    "    if some_list[mid] == element:\n",
    "        return mid\n",
    "\n",
    "    # 찾는 항목이 중간 값보다 작으면 리스트 왼쪽을 탐색해준다\n",
    "    if element < some_list[mid]:\n",
    "        return binary_search(element, some_list, start_index, mid - 1)\n",
    "\n",
    "    # 찾는 항목이 중간 값보다 크면 리스트 오른쪽을 탐색해준다\n",
    "    else:\n",
    "        return binary_search(element, some_list, mid + 1, end_index)        \n",
    "\n",
    "print(binary_search(2, [2, 3, 5, 7, 11]))\n",
    "print(binary_search(0, [2, 3, 5, 7, 11]))\n",
    "print(binary_search(5, [2, 3, 5, 7, 11]))\n",
    "print(binary_search(3, [2, 3, 5, 7, 11]))\n",
    "print(binary_search(11, [2, 3, 5, 7, 11]))"
   ]
  },
  {
   "cell_type": "markdown",
   "metadata": {},
   "source": [
    "### 하노이의 탑 - 재귀"
   ]
  },
  {
   "cell_type": "code",
   "execution_count": null,
   "metadata": {},
   "outputs": [],
   "source": [
    "def move_disk(disk_num, start_peg, end_peg):\n",
    "    print(\"%d번 원판을 %d번 기둥에서 %d번 기둥으로 이동\" % (disk_num, start_peg, end_peg))\n",
    "\n",
    "def hanoi(num_disks, start_peg, end_peg):\n",
    "    # base case: 옮길 원판이 없으면 부분 문제를 나누지 않고 함수를 끝낸다\n",
    "    if num_disks == 0:\n",
    "        return\n",
    "    else:\n",
    "        other_peg = 6 - start_peg - end_peg\n",
    "        \n",
    "        # 1. 가장 큰 원판을 제외하고 나머지 원판들을 start_peg에서 other_peg로 이동\n",
    "        hanoi(num_disks - 1, start_peg, other_peg)\n",
    "        \n",
    "        # 2. 가장 큰 원판을 start_peg에서 end_peg로 이동\n",
    "        move_disk(num_disks, start_peg, end_peg)\n",
    "        \n",
    "        # 3. 나머지 원판들을 other_peg에서 end_peg로 이동\n",
    "        hanoi(num_disks - 1, other_peg, end_peg)\n",
    "\n",
    "# 테스트\n",
    "hanoi(3, 1, 3)"
   ]
  },
  {
   "cell_type": "markdown",
   "metadata": {},
   "source": [
    "### 1부터 n까지의 합 - Divide and Conquer"
   ]
  },
  {
   "cell_type": "code",
   "execution_count": null,
   "metadata": {},
   "outputs": [],
   "source": [
    "def consecutive_sum(start, end):\n",
    "    # base case        \n",
    "    if end == start:\n",
    "        return start\n",
    "\n",
    "    # 부분 문제를 반으로 나눠주기 위해서 문제의 정중앙을 정의한다 (Divide)\n",
    "    mid = (start + end) // 2\n",
    "\n",
    "    # 각 부분 문제를 재귀적으로 풀고(Conquer), 부분 문제의 답을 서로 더한다(Combine).\n",
    "    return consecutive_sum(start, mid) + consecutive_sum(mid + 1, end)\n",
    "\n",
    "# 테스트\n",
    "print(consecutive_sum(1, 10))\n",
    "print(consecutive_sum(1, 100))\n",
    "print(consecutive_sum(1, 253))\n",
    "print(consecutive_sum(1, 388))"
   ]
  },
  {
   "cell_type": "markdown",
   "metadata": {},
   "source": [
    "### 합병 정렬 - Divide and Conquer"
   ]
  },
  {
   "cell_type": "code",
   "execution_count": null,
   "metadata": {},
   "outputs": [],
   "source": [
    "def merge(list1, list2):\n",
    "    i = 0\n",
    "    j = 0\n",
    "\n",
    "    # 정렬된 항목들을 담을 리스트\n",
    "    merged_list = []\n",
    "\n",
    "    # list1과 list2를 돌면서 merged_list에 항목 정렬\n",
    "    while i < len(list1) and j < len(list2):\n",
    "        if list1[i] > list2[j]:\n",
    "            merged_list.append(list2[j])\n",
    "            j += 1\n",
    "        else:\n",
    "            merged_list.append(list1[i])\n",
    "            i += 1\n",
    "\n",
    "    # list2에 남은 항목이 있으면 정렬 리스트에 추가\n",
    "    if i == len(list1):\n",
    "        merged_list += list2[j:]\n",
    "\n",
    "    # list1에 남은 항목이 있으면 정렬 리스트에 추가\n",
    "    elif j == len(list2):\n",
    "        merged_list += list1[i:]\n",
    "\n",
    "    return merged_list\n",
    "\n",
    "\n",
    "def merge_sort(my_list):\n",
    "    # base case\n",
    "    if len(my_list) < 2:\n",
    "        return my_list\n",
    "\n",
    "    # my_list를 반씩 나눈다(divide)\n",
    "    left_half = my_list[:len(my_list)//2]    # 왼쪽 반\n",
    "    right_half = my_list[len(my_list)//2:]   # 오른쪽 반\n",
    "\n",
    "    # merge_sort 함수를 재귀적으로 호출하여 부분 문제 해결(conquer)하고,\n",
    "    # merge 함수로 정렬된 두 리스트를 합쳐(combine)준다\n",
    "    return merge(merge_sort(left_half), merge_sort(right_half))\n",
    "\n",
    "# 테스트\n",
    "print(merge_sort([1, 3, 5, 7, 9, 11, 13, 11]))\n",
    "print(merge_sort([28, 13, 9, 30, 1, 48, 5, 7, 15]))\n",
    "print(merge_sort([2, 5, 6, 7, 1, 2, 4, 7, 10, 11, 4, 15, 13, 1, 6, 4]))"
   ]
  },
  {
   "cell_type": "markdown",
   "metadata": {},
   "source": [
    "### 피보나치 수열 - Dynamic Programming (Memoization)"
   ]
  },
  {
   "cell_type": "code",
   "execution_count": 8,
   "metadata": {},
   "outputs": [
    {
     "name": "stdout",
     "output_type": "stream",
     "text": [
      "55\n",
      "12586269025\n",
      "354224848179261915075\n"
     ]
    }
   ],
   "source": [
    "def fib_memo(n, cache):\n",
    "    # base case\n",
    "    if n < 3:\n",
    "        return 1\n",
    "        \n",
    "    # 이미 n번째 피보나치를 계산했으면:\n",
    "    # 저장된 값을 바로 리턴한다\n",
    "    if n in cache:\n",
    "        return cache[n]\n",
    "    \n",
    "    # 아직 n번째 피보나치 수를 계산하지 않았으면:\n",
    "    # 계산을 한 후 cache에 저장\n",
    "    cache[n] = fib_memo(n - 1, cache) + fib_memo(n - 2, cache)\n",
    "\n",
    "    # 계산한 값을 리턴한다\n",
    "    return cache[n]\n",
    "\n",
    "def fib(n):\n",
    "    # n번째 피보나치 수를 담는 사전\n",
    "    fib_cache = {}\n",
    "\n",
    "    return fib_memo(n, fib_cache)\n",
    "\n",
    "# 테스트\n",
    "print(fib(10))\n",
    "print(fib(50))\n",
    "print(fib(100))"
   ]
  }
 ],
 "metadata": {
  "interpreter": {
   "hash": "2db524e06e9f5f4ffedc911c917cb75e12dbc923643829bf417064a77eb14d37"
  },
  "kernelspec": {
   "display_name": "Python 3.8.5 32-bit",
   "language": "python",
   "name": "python3"
  },
  "language_info": {
   "codemirror_mode": {
    "name": "ipython",
    "version": 3
   },
   "file_extension": ".py",
   "mimetype": "text/x-python",
   "name": "python",
   "nbconvert_exporter": "python",
   "pygments_lexer": "ipython3",
   "version": "3.8.5"
  },
  "orig_nbformat": 4
 },
 "nbformat": 4,
 "nbformat_minor": 2
}
